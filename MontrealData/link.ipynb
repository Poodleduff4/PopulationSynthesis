{
 "cells": [
  {
   "cell_type": "code",
   "execution_count": 1,
   "metadata": {},
   "outputs": [],
   "source": [
    "import pandas as pd\n",
    "import numpy as np\n",
    "from scipy.stats import truncnorm\n",
    "import re\n",
    "import random\n",
    "import geopandas as gpd\n",
    "from numba import jit, njit\n",
    "from shapely import MultiPoint, Point\n",
    "from shapely.ops import nearest_points"
   ]
  },
  {
   "cell_type": "code",
   "execution_count": 2,
   "metadata": {},
   "outputs": [],
   "source": [
    "dwellings_file = './Output/dd_2006_snapped.csv'\n",
    "# jobs_file = './jj_2006_2138_snapped.csv'\n",
    "persons_file = './Output/TESTPERSONS.csv'"
   ]
  },
  {
   "cell_type": "code",
   "execution_count": 9,
   "metadata": {},
   "outputs": [],
   "source": [
    "job_type_indexes = [\"Agri\",\"Mnft\",\"Util\",\"Cons\",\"Retl\",\"Trns\",\"Finc\",\"Rlst\",\"Admn\",\"Serv\"]"
   ]
  },
  {
   "cell_type": "code",
   "execution_count": 32,
   "metadata": {},
   "outputs": [],
   "source": [
    "def convert_job_type_to_int(job):\n",
    "    jobType = job[3]\n",
    "    if jobType in job_type_indexes:\n",
    "        job[3] = job_type_indexes.index(jobType)\n",
    "    else:\n",
    "        job[3] = -1\n",
    "    return job"
   ]
  },
  {
   "cell_type": "code",
   "execution_count": 31,
   "metadata": {},
   "outputs": [],
   "source": [
    "dwellings = pd.read_csv(dwellings_file)\n",
    "d_cols = dwellings.columns\n",
    "d = lambda x: d_cols.get_loc(x)\n",
    "dwellings:np.ndarray = dwellings.values\n",
    "\n",
    "persons = pd.read_csv(persons_file)\n",
    "# nats = persons['nationality']\n",
    "p_cols = persons.columns\n",
    "p = lambda x: p_cols.get_loc(x)\n",
    "persons:np.ndarray = persons[p_cols].values\n",
    "persons = persons.astype(np.float32)\n",
    "\n",
    "households_df = pd.DataFrame(columns=['id', 'dwelling', 'hhSize', 'autos'], dtype=int)\n",
    "h_cols = households_df.columns\n",
    "h = lambda x: h_cols.get_loc(x)\n",
    "\n",
    "\n",
    "jobs = pd.read_csv('./Output/jj_2006_2138_snapped.csv')\n",
    "j_cols = jobs.columns\n",
    "jobs = jobs.values\n"
   ]
  },
  {
   "cell_type": "code",
   "execution_count": 33,
   "metadata": {},
   "outputs": [
    {
     "data": {
      "text/plain": [
       "array([[0, 24660061, -1, ..., 193044.04741146124, 32400, 28800],\n",
       "       [1, 24660061, -1, ..., 193044.04741146124, 32400, 28800],\n",
       "       [2, 24660061, -1, ..., 193044.04741146124, 32400, 28800],\n",
       "       ...,\n",
       "       [1699442, 24590189, -1, ..., 210073.2706329787, 32400, 28800],\n",
       "       [1699443, 24590189, -1, ..., 210084.9938897257, 32400, 28800],\n",
       "       [1699444, 24590189, -1, ..., 210073.2706329787, 32400, 28800]],\n",
       "      dtype=object)"
      ]
     },
     "execution_count": 33,
     "metadata": {},
     "output_type": "execute_result"
    }
   ],
   "source": [
    "np.apply_along_axis(convert_job_type_to_int, 1, jobs)"
   ]
  },
  {
   "cell_type": "code",
   "execution_count": 4,
   "metadata": {},
   "outputs": [],
   "source": [
    "@jit(nopython=True)\n",
    "def findPartner(n, person):\n",
    "    for i in range(n, persons.shape[0]):\n",
    "        if persons[i][4]==1 and persons[i][1]==-1 and \\\n",
    "                                        abs(person[2] - persons[i][2]) < 10:\n",
    "            # print(person[0], 'married to ', persons[i][0])\n",
    "            return i # retur person index\n",
    "    return None"
   ]
  },
  {
   "cell_type": "code",
   "execution_count": 5,
   "metadata": {},
   "outputs": [],
   "source": [
    "@jit(nopython=True)\n",
    "def findRoommate(n, person):\n",
    "    for i in range(n, persons.shape[0]):\n",
    "        if persons[i][4]==0 and persons[i][1]==-1 and \\\n",
    "                                        abs(person[2] - persons[i][2]) < 10:\n",
    "            return i # return person index\n",
    "    return None"
   ]
  },
  {
   "cell_type": "code",
   "execution_count": 6,
   "metadata": {},
   "outputs": [],
   "source": [
    "@jit(nopython=True)\n",
    "def firstLonelyChild(n):\n",
    "    for i in range(n, persons.shape[0]):\n",
    "        if persons[i][1]==-1 and persons[i][4]==2:\n",
    "            lastIndex = i\n",
    "            return int(persons[i][0])"
   ]
  },
  {
   "cell_type": "code",
   "execution_count": 7,
   "metadata": {},
   "outputs": [],
   "source": [
    "@jit(nopython=True)\n",
    "def nextUnhousedPerson(n):\n",
    "    for i in range(n, persons.shape[0]):\n",
    "        if persons[i][1]==-1 and persons[i][4] != 2:\n",
    "            return int(persons[i][0])"
   ]
  },
  {
   "cell_type": "code",
   "execution_count": 35,
   "metadata": {},
   "outputs": [],
   "source": [
    "@jit(nopython=True)\n",
    "def getNextJob(n):\n",
    "    for i in range(n, jobs.shape[0]):\n",
    "        if jobs[i][2] == -1:\n",
    "            return jobs[i][0]"
   ]
  },
  {
   "cell_type": "markdown",
   "metadata": {},
   "source": [
    "<h1>GIVE PERSONS JOBS</h1>"
   ]
  },
  {
   "cell_type": "code",
   "execution_count": null,
   "metadata": {},
   "outputs": [],
   "source": [
    "lastJob = 0\n",
    "def assign_persons_jobs(person):\n",
    "    if persons[]\n",
    "    person[7] = getNextJob(lastJob)"
   ]
  },
  {
   "cell_type": "code",
   "execution_count": null,
   "metadata": {},
   "outputs": [],
   "source": [
    "np.apply_along_axis(assign_persons_jobs, 1, persons)"
   ]
  },
  {
   "cell_type": "markdown",
   "metadata": {},
   "source": [
    "HOUSEHOLD SYNTHESIS"
   ]
  },
  {
   "cell_type": "markdown",
   "metadata": {},
   "source": [
    "for each dwelling\n",
    "- create a household\n",
    "  - has either a single person and 0-1 kids\n",
    "  - OR married couple with 0-2 kids\n",
    "- "
   ]
  },
  {
   "cell_type": "code",
   "execution_count": 8,
   "metadata": {},
   "outputs": [],
   "source": [
    "households = np.empty([dwellings.shape[0],4])"
   ]
  },
  {
   "cell_type": "code",
   "execution_count": 9,
   "metadata": {},
   "outputs": [
    {
     "name": "stdout",
     "output_type": "stream",
     "text": [
      "0\n",
      "10000\n",
      "20000\n",
      "30000\n",
      "40000\n",
      "50000\n",
      "60000\n",
      "70000\n",
      "80000\n",
      "90000\n",
      "100000\n",
      "110000\n",
      "120000\n",
      "130000\n",
      "140000\n",
      "150000\n",
      "160000\n",
      "170000\n",
      "180000\n",
      "190000\n",
      "200000\n",
      "210000\n",
      "220000\n",
      "230000\n",
      "240000\n",
      "250000\n",
      "260000\n",
      "270000\n",
      "280000\n",
      "290000\n",
      "300000\n",
      "310000\n",
      "320000\n",
      "330000\n",
      "340000\n",
      "350000\n",
      "360000\n",
      "370000\n",
      "380000\n",
      "390000\n",
      "400000\n",
      "410000\n",
      "420000\n",
      "430000\n",
      "440000\n",
      "450000\n",
      "460000\n",
      "470000\n",
      "480000\n",
      "490000\n",
      "500000\n",
      "510000\n",
      "520000\n",
      "530000\n",
      "540000\n",
      "550000\n",
      "560000\n",
      "570000\n",
      "580000\n",
      "590000\n",
      "600000\n",
      "610000\n",
      "620000\n",
      "630000\n",
      "640000\n",
      "650000\n",
      "660000\n",
      "670000\n",
      "680000\n",
      "690000\n",
      "700000\n",
      "710000\n",
      "720000\n",
      "730000\n",
      "740000\n",
      "750000\n",
      "760000\n",
      "770000\n",
      "780000\n",
      "790000\n",
      "800000\n",
      "810000\n",
      "820000\n",
      "830000\n",
      "840000\n",
      "850000\n",
      "860000\n",
      "870000\n",
      "880000\n",
      "890000\n",
      "900000\n",
      "910000\n",
      "920000\n",
      "930000\n",
      "940000\n",
      "950000\n",
      "960000\n",
      "970000\n",
      "980000\n",
      "990000\n",
      "1000000\n",
      "1010000\n",
      "1020000\n",
      "1030000\n",
      "1040000\n",
      "1050000\n",
      "1060000\n",
      "1070000\n",
      "1080000\n",
      "1090000\n",
      "1100000\n",
      "1110000\n",
      "1120000\n",
      "1130000\n",
      "1140000\n",
      "1150000\n",
      "1160000\n",
      "1170000\n",
      "1180000\n",
      "1190000\n",
      "1200000\n",
      "1210000\n",
      "1220000\n",
      "1230000\n",
      "1240000\n",
      "1250000\n",
      "1260000\n",
      "1270000\n",
      "1280000\n",
      "1290000\n",
      "1300000\n",
      "1310000\n",
      "1320000\n",
      "1330000\n",
      "1340000\n",
      "1350000\n",
      "All poeple housed, extra dwellings available\n"
     ]
    }
   ],
   "source": [
    "householdNumber = 0\n",
    "personNum = 0\n",
    "lastChildIndex = 0\n",
    "err = 1 # exhausted dwellings, extra people\n",
    "for i, dwelling in enumerate(dwellings): # for each dwelling\n",
    "    hhId = householdNumber\n",
    "    if persons[personNum][1]==-1 and persons[personNum][4] != 2: # if current person is unhoused and not a child\n",
    "        person = persons[personNum] # random.randint(0, len(persons)-1)\n",
    "    else:\n",
    "        next = nextUnhousedPerson(personNum) # skip to the index of the next unhoused person to save time\n",
    "        if next == None:\n",
    "            err=2 # exhausted people, extra dwellings\n",
    "            break\n",
    "        person = persons[next]\n",
    "        personNum = int(person[0])\n",
    "        \n",
    "    persons[personNum][p('hhId')] = hhId\n",
    "    hhSize = 1\n",
    "    numKids=0\n",
    "    if person[p('relationship')]==1: # married\n",
    "        partner = findPartner(int(personNum), person)\n",
    "        if partner == None: # can't find partner for person\n",
    "            persons[personNum][p('relationship')]=0 # set person to single\n",
    "            numKids = random.randint(0,1)\n",
    "            hhSize += numKids\n",
    "        else:  \n",
    "            persons[int(partner)][1] = hhId\n",
    "            numKids = random.randint(0,3)\n",
    "            hhSize += numKids+1\n",
    "\n",
    "        for j in range(numKids):\n",
    "            child_ind = firstLonelyChild(lastChildIndex)\n",
    "            if child_ind != None:\n",
    "                persons[child_ind][1] = hhId\n",
    "                lastChildIndex = child_ind\n",
    "        \n",
    "\n",
    "    elif person[p('relationship')]==0: # single\n",
    "        numKids=random.randint(0,1)\n",
    "        numRoommates = random.randint(0,2)\n",
    "        if numKids>0:\n",
    "            child_ind = firstLonelyChild(lastChildIndex)\n",
    "            if child_ind != None:\n",
    "                persons[child_ind][1] = hhId\n",
    "                lastChildIndex = child_ind\n",
    "        \n",
    "        if numRoommates>0:\n",
    "            for rm in range(numRoommates):\n",
    "                roommate_ind = findRoommate(personNum+1, person)\n",
    "                if roommate_ind != None:\n",
    "                    persons[roommate_ind][1] = hhId\n",
    "        hhSize += numKids+numRoommates\n",
    "\n",
    "    # households = np.r_[households, [[hhId, dwelling[d('id')], hhSize, random.randint(0,hhSize-numKids)]]]\n",
    "    households[householdNumber][0] = hhId\n",
    "    households[householdNumber][1] = dwelling[d('id')]\n",
    "    households[householdNumber][2] = hhSize\n",
    "    households[householdNumber][3] = random.randint(0,hhSize-numKids)\n",
    "    householdNumber+=1\n",
    "    personNum += 1\n",
    "    dwellings[i][d('hhId')] = hhId\n",
    "\n",
    "    if i%10000==0:\n",
    "        print(i)\n",
    "    # if i%150000==0 and i!=0:\n",
    "    #     num=int(i/150000)\n",
    "    #     print('writing to file:', num)\n",
    "    #     pd.DataFrame(data=households, columns=h_cols).astype(int).to_csv('./Output/hh_2006_'+str(num)+'.csv', index=False)\n",
    "    #     households = np.empty([0,4])\n",
    "\n",
    "if err==1:\n",
    "    print(\"Exhausted Dwellings, extra people with no dwelling\")\n",
    "    print('At person', personNum)\n",
    "elif err==2:\n",
    "    print(\"All poeple housed, extra dwellings available\")\n"
   ]
  },
  {
   "cell_type": "code",
   "execution_count": 18,
   "metadata": {},
   "outputs": [],
   "source": [
    "households = households[:householdNumber]"
   ]
  },
  {
   "cell_type": "code",
   "execution_count": 10,
   "metadata": {},
   "outputs": [],
   "source": [
    "pd.DataFrame(data=households, columns=h_cols).astype(int).to_csv('./Output/hh_2006.csv', index=False)"
   ]
  },
  {
   "cell_type": "code",
   "execution_count": 27,
   "metadata": {},
   "outputs": [],
   "source": [
    "pd.DataFrame(data=dwellings, columns=d_cols).to_csv('./Output/dd_2006_snapped_linked.csv', index=False)"
   ]
  },
  {
   "cell_type": "markdown",
   "metadata": {},
   "source": [
    "GENERATE NATIONALITIES"
   ]
  },
  {
   "cell_type": "code",
   "execution_count": 24,
   "metadata": {},
   "outputs": [
    {
     "name": "stdout",
     "output_type": "stream",
     "text": [
      "{'Canadian': 0.3617886574998944, 'French': 0.18845588720950504, 'Italian': 0.06059208296654334, 'Irish': 0.05185625513641339, 'English': 0.029953884617341938, 'Haitian': 0.028640478673124335, 'Scottish': 0.026880969473327465, 'Chinese': 0.023555767779434425, 'First Nations': 0.022070200627359773, 'Québécois': 0.0199479618386817, 'German': 0.018629142020003184, 'Algerian': 0.018317302851054568, 'Moroccan': 0.01677218307990987, 'Spanish': 0.014855671520746508, 'Greek': 0.014378167793293942, 'Lebanese': 0.014891403092188537, 'Polish': 0.014053335325639136, 'Portuguese': 0.012214783558712927, 'Russian': 0.010670746562460412, 'East Indian': 0.010499668129495546, 'Romanian': 0.010390307865385095, 'Vietnamese': 0.00837201546635656, 'Filipino': 0.00772776440550786, 'Ukrainian': 0.007590251994200658, 'Belgian': 0.006895110513419371}\n"
     ]
    }
   ],
   "source": [
    "tmp = \"\"\"Canadian 1,670,655\n",
    "French 870,245\n",
    "Italian\t279,800\n",
    "Irish 239,460\n",
    "English 138,320\n",
    "Haitian 132,255\n",
    "Scottish 124,130\n",
    "Chinese\t108,775\n",
    "First Nations 101,915\n",
    "Québécois 92,115\n",
    "German 86,025\n",
    "Algerian 84,585\n",
    "Moroccan 77,450\n",
    "Spanish\t68,600\n",
    "Greek 66,395\n",
    "Lebanese 68,765\n",
    "Polish 64,895\n",
    "Portuguese 56,405\n",
    "Russian\t49,275\n",
    "East Indian\t48,485\n",
    "Romanian 47,980\n",
    "Vietnamese 38,660\n",
    "Filipino 35,685\n",
    "Ukrainian 35,050\n",
    "Belgian\t31,840\"\"\"\n",
    "\n",
    "countries = tmp.replace('\\t', ' ').replace(',', '').split('\\n')\n",
    "nationalities = {}\n",
    "total_nationalities_pop = 0\n",
    "for i in countries:\n",
    "    ind = re.search('[0-9]', i).span()[0]\n",
    "    nationalities[i[:ind-1]] = 0.0\n",
    "    total_nationalities_pop += int(i[ind:])\n",
    "\n",
    "for i in countries:\n",
    "    ind = re.search('[0-9]', i).span()[0]\n",
    "    nationalities[i[:ind-1]] = int(i[ind:])/total_nationalities_pop\n",
    "\n",
    "print(nationalities)\n",
    "nationalities_list = random.choices(list(nationalities.keys()), weights=list(nationalities.values()),k=persons.shape[0])"
   ]
  },
  {
   "cell_type": "code",
   "execution_count": 26,
   "metadata": {},
   "outputs": [],
   "source": [
    "outputPersons = pd.DataFrame(data=persons, columns=p_cols)\n",
    "outputPersons['nationality'] = nationalities_list\n",
    "outputPersons.to_csv('./Output/pp_2006_linked.csv', index=False)"
   ]
  }
 ],
 "metadata": {
  "kernelspec": {
   "display_name": ".venv",
   "language": "python",
   "name": "python3"
  },
  "language_info": {
   "codemirror_mode": {
    "name": "ipython",
    "version": 3
   },
   "file_extension": ".py",
   "mimetype": "text/x-python",
   "name": "python",
   "nbconvert_exporter": "python",
   "pygments_lexer": "ipython3",
   "version": "3.12.2"
  }
 },
 "nbformat": 4,
 "nbformat_minor": 2
}
