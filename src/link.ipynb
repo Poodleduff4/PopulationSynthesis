{
 "cells": [
  {
   "cell_type": "code",
   "execution_count": 2,
   "metadata": {},
   "outputs": [],
   "source": [
    "import pandas as pd\n",
    "import numpy as np\n",
    "from scipy.stats import truncnorm\n",
    "import re\n",
    "import random\n",
    "import geopandas as gpd\n",
    "from numba import jit, njit\n",
    "from shapely import MultiPoint, Point\n",
    "from shapely.ops import nearest_points"
   ]
  },
  {
   "cell_type": "code",
   "execution_count": 3,
   "metadata": {},
   "outputs": [],
   "source": [
    "dwellings_file = './Output/dd_2006_snapped_unlinked.csv'\n",
    "jobs_file = './Output/jj_2006_snapped_unlinked.csv'\n",
    "persons_file = './Output/pp_2006_unlinked.csv'"
   ]
  },
  {
   "cell_type": "code",
   "execution_count": 4,
   "metadata": {},
   "outputs": [],
   "source": [
    "job_type_indexes = [\"Agri\",\"Mnft\",\"Util\",\"Cons\",\"Retl\",\"Trns\",\"Finc\",\"Rlst\",\"Admn\",\"Serv\"]"
   ]
  },
  {
   "cell_type": "code",
   "execution_count": 5,
   "metadata": {},
   "outputs": [],
   "source": [
    "zones = gpd.read_file('../GeoFiles/Montreal_CT_w_csd_2006.shp')"
   ]
  },
  {
   "cell_type": "code",
   "execution_count": 7,
   "metadata": {},
   "outputs": [
    {
     "data": {
      "text/plain": [
       "(913, 5)"
      ]
     },
     "execution_count": 7,
     "metadata": {},
     "output_type": "execute_result"
    }
   ],
   "source": [
    "zones.shape"
   ]
  },
  {
   "cell_type": "code",
   "execution_count": 55,
   "metadata": {},
   "outputs": [],
   "source": [
    "dwellings = pd.read_csv(dwellings_file)\n",
    "d_cols = dwellings.columns\n",
    "d = lambda x: d_cols.get_loc(x)\n",
    "dwellings:np.ndarray = dwellings.values\n",
    "\n",
    "persons = pd.read_csv(persons_file)\n",
    "# nats = persons['nationality']\n",
    "p_cols = persons.columns\n",
    "p = lambda x: p_cols.get_loc(x)\n",
    "persons:np.ndarray = persons[p_cols].values\n",
    "persons = persons.astype(np.float32)\n",
    "\n",
    "households_df = pd.DataFrame(columns=['id', 'dwelling', 'hhSize', 'autos'], dtype=int)\n",
    "h_cols = households_df.columns\n",
    "h = lambda x: h_cols.get_loc(x)\n",
    "\n",
    "\n",
    "jobs = pd.read_csv(jobs_file)\n",
    "jobs = jobs[jobs['zone'].astype(str).isin(zones['CTUID'].astype(str))]\n",
    "j_cols = jobs.columns\n",
    "jobs = jobs.values\n"
   ]
  },
  {
   "cell_type": "code",
   "execution_count": 56,
   "metadata": {},
   "outputs": [],
   "source": [
    "# def convert_job_int_to_type(job):\n",
    "#     typ = int(float(job[3]))\n",
    "#     if typ != -1:\n",
    "#         job[3] = job_type_indexes[typ]\n",
    "#     else:\n",
    "#         job[3] = '?'\n",
    "#     return job"
   ]
  },
  {
   "cell_type": "code",
   "execution_count": 57,
   "metadata": {},
   "outputs": [],
   "source": [
    "def convert_int_to_type(job):\n",
    "    typ = int(job[3]) # type is float\n",
    "    if typ != -1:\n",
    "        return job_type_indexes[typ]\n",
    "    else:\n",
    "        return '?'"
   ]
  },
  {
   "cell_type": "code",
   "execution_count": 58,
   "metadata": {},
   "outputs": [],
   "source": [
    "def convert_job_type_to_int(job):\n",
    "    jobType = job[3]\n",
    "    if jobType in job_type_indexes:\n",
    "        job[3] = job_type_indexes.index(jobType)\n",
    "    else:\n",
    "        job[3] = -1\n",
    "    return job"
   ]
  },
  {
   "cell_type": "code",
   "execution_count": 59,
   "metadata": {},
   "outputs": [
    {
     "data": {
      "text/plain": [
       "array([[0, 24660061, -1, ..., 193044.04741146124, 32400, 28800],\n",
       "       [1, 24660061, -1, ..., 193044.04741146124, 32400, 28800],\n",
       "       [2, 24660061, -1, ..., 193044.04741146124, 32400, 28800],\n",
       "       ...,\n",
       "       [1699442, 24590189, -1, ..., 210073.2706329787, 32400, 28800],\n",
       "       [1699443, 24590189, -1, ..., 210084.9938897257, 32400, 28800],\n",
       "       [1699444, 24590189, -1, ..., 210073.2706329787, 32400, 28800]],\n",
       "      dtype=object)"
      ]
     },
     "execution_count": 59,
     "metadata": {},
     "output_type": "execute_result"
    }
   ],
   "source": [
    "np.apply_along_axis(convert_job_type_to_int, 1, jobs)"
   ]
  },
  {
   "cell_type": "code",
   "execution_count": 75,
   "metadata": {},
   "outputs": [],
   "source": [
    "jobs = jobs.astype(np.int32)"
   ]
  },
  {
   "cell_type": "code",
   "execution_count": 82,
   "metadata": {},
   "outputs": [],
   "source": [
    "@jit(nopython=True)\n",
    "def findPartner(n, person):\n",
    "    for i in range(n, persons.shape[0]):\n",
    "        if persons[i][4]==1 and persons[i][1]==-1 and \\\n",
    "                                        abs(person[2] - persons[i][2]) < 10:\n",
    "            # print(person[0], 'married to ', persons[i][0])\n",
    "            return i # retur person index\n",
    "    return None"
   ]
  },
  {
   "cell_type": "code",
   "execution_count": 83,
   "metadata": {},
   "outputs": [],
   "source": [
    "@jit(nopython=True)\n",
    "def findRoommate(n, person):\n",
    "    for i in range(n, persons.shape[0]):\n",
    "        if persons[i][4]==0 and persons[i][1]==-1 and \\\n",
    "                                        abs(person[2] - persons[i][2]) < 10:\n",
    "            return i # return person index\n",
    "    return None"
   ]
  },
  {
   "cell_type": "code",
   "execution_count": 84,
   "metadata": {},
   "outputs": [],
   "source": [
    "@jit(nopython=True)\n",
    "def firstLonelyChild(n):\n",
    "    for i in range(n, persons.shape[0]):\n",
    "        if persons[i][1]==-1 and persons[i][4]==2:\n",
    "            lastIndex = i\n",
    "            return int(persons[i][0])"
   ]
  },
  {
   "cell_type": "code",
   "execution_count": 85,
   "metadata": {},
   "outputs": [],
   "source": [
    "@jit(nopython=True)\n",
    "def nextUnhousedPerson(n):\n",
    "    for i in range(n, persons.shape[0]):\n",
    "        if persons[i][1]==-1 and persons[i][4] != 2:\n",
    "            return int(persons[i][0])"
   ]
  },
  {
   "cell_type": "code",
   "execution_count": 86,
   "metadata": {},
   "outputs": [],
   "source": [
    "# NEED NUMBA OR at least a float array instead of object type\n",
    "@jit(nopython=True)\n",
    "def getNextJob(n):\n",
    "    for i in range(n, jobs.shape[0]):\n",
    "        if jobs[i][2] == -1:\n",
    "            return int(jobs[i][0])"
   ]
  },
  {
   "cell_type": "markdown",
   "metadata": {},
   "source": [
    "<h1>GIVE PERSONS JOBS</h1>"
   ]
  },
  {
   "cell_type": "code",
   "execution_count": 87,
   "metadata": {},
   "outputs": [],
   "source": [
    "# np.apply_along_axis(assign_person_job, 1, persons)\n",
    "lastJob = 0\n",
    "last_i = 0\n",
    "num_jobs_assigned = 0\n",
    "for i in range(0,persons.shape[0]):\n",
    "    if persons[i][5] == 1 and persons[i][7] == -1:\n",
    "        job = getNextJob(lastJob)\n",
    "        if job != None:\n",
    "            persons[i,7] = job\n",
    "            jobs[job,2] = persons[i,0]\n",
    "            num_jobs_assigned+=1\n",
    "            lastJob = job\n",
    "    last_i = i\n",
    "    "
   ]
  },
  {
   "cell_type": "code",
   "execution_count": 90,
   "metadata": {},
   "outputs": [
    {
     "name": "stdout",
     "output_type": "stream",
     "text": [
      "1232656\n",
      "1232656\n"
     ]
    }
   ],
   "source": [
    "with_jobs = 0\n",
    "able_to_have_job = 0\n",
    "for i in persons:\n",
    "    if i[7] != -1 and i[5] == 1:\n",
    "        with_jobs += 1\n",
    "    if i[5] == 1:\n",
    "        able_to_have_job += 1\n",
    "\n",
    "print(with_jobs)\n",
    "print(able_to_have_job)"
   ]
  },
  {
   "cell_type": "code",
   "execution_count": 92,
   "metadata": {},
   "outputs": [],
   "source": [
    "outputJobs = pd.DataFrame(columns=j_cols, data=jobs)\n",
    "outputJobs = outputJobs.astype({'id': 'int32', 'zone': 'str', 'type': 'str', 'personId': 'int32', 'startTime': 'int32', 'duration': 'int32'})\n",
    "outputJobs['type'] = np.apply_along_axis(convert_int_to_type, 1, jobs)\n"
   ]
  },
  {
   "cell_type": "code",
   "execution_count": 94,
   "metadata": {},
   "outputs": [],
   "source": [
    "\n",
    "outputJobs.to_csv('./Output/Final/jj_2006_snapped_linked_new.csv', index=False)"
   ]
  },
  {
   "cell_type": "markdown",
   "metadata": {},
   "source": [
    "HOUSEHOLD SYNTHESIS"
   ]
  },
  {
   "cell_type": "markdown",
   "metadata": {},
   "source": [
    "for each dwelling\n",
    "- create a household\n",
    "  - has either a single person and 0-1 kids\n",
    "  - OR married couple with 0-2 kids\n",
    "- "
   ]
  },
  {
   "cell_type": "code",
   "execution_count": 95,
   "metadata": {},
   "outputs": [],
   "source": [
    "households = np.empty([dwellings.shape[0],4])"
   ]
  },
  {
   "cell_type": "code",
   "execution_count": 96,
   "metadata": {},
   "outputs": [
    {
     "name": "stdout",
     "output_type": "stream",
     "text": [
      "All poeple housed, extra dwellings available\n"
     ]
    }
   ],
   "source": [
    "householdNumber = 0\n",
    "personNum = 0\n",
    "lastChildIndex = 0\n",
    "err = 1 # exhausted dwellings, extra people\n",
    "totalPersons = persons.shape[0]\n",
    "for i, dwelling in enumerate(dwellings): # for each dwelling\n",
    "    hhId = householdNumber\n",
    "    if personNum >= totalPersons:\n",
    "        err=2\n",
    "        break\n",
    "    if persons[personNum][1]==-1 and persons[personNum][4] != 2: # if current person is unhoused and not a child\n",
    "        person = persons[personNum] # random.randint(0, len(persons)-1)\n",
    "    else:\n",
    "        next = nextUnhousedPerson(personNum) # skip to the index of the next unhoused person to save time\n",
    "        if next == None:\n",
    "            err=2 # exhausted people, extra dwellings\n",
    "            break\n",
    "        person = persons[next]\n",
    "        personNum = int(person[0])\n",
    "        \n",
    "    persons[personNum][p('hhId')] = hhId\n",
    "    hhSize = 1\n",
    "    numKids=0\n",
    "    if person[p('relationship')]==1: # married\n",
    "        partner = findPartner(int(personNum), person)\n",
    "        if partner == None: # can't find partner for person\n",
    "            persons[personNum][p('relationship')]=0 # set person to single\n",
    "            numKids = random.randint(0,1)\n",
    "            hhSize += numKids\n",
    "        else:  \n",
    "            persons[int(partner)][1] = hhId\n",
    "            numKids = random.randint(0,3)\n",
    "            hhSize += numKids+1\n",
    "\n",
    "        for j in range(numKids):\n",
    "            child_ind = firstLonelyChild(lastChildIndex)\n",
    "            if child_ind != None:\n",
    "                persons[child_ind][1] = hhId\n",
    "                lastChildIndex = child_ind\n",
    "        \n",
    "\n",
    "    elif person[p('relationship')]==0: # single\n",
    "        numKids=random.randint(0,1)\n",
    "        numRoommates = random.randint(0,2)\n",
    "        if numKids>0:\n",
    "            child_ind = firstLonelyChild(lastChildIndex)\n",
    "            if child_ind != None:\n",
    "                persons[child_ind][1] = hhId\n",
    "                lastChildIndex = child_ind\n",
    "        \n",
    "        if numRoommates>0:\n",
    "            for rm in range(numRoommates):\n",
    "                roommate_ind = findRoommate(personNum+1, person)\n",
    "                if roommate_ind != None:\n",
    "                    persons[roommate_ind][1] = hhId\n",
    "        hhSize += numKids+numRoommates\n",
    "\n",
    "    # households = np.r_[households, [[hhId, dwelling[d('id')], hhSize, random.randint(0,hhSize-numKids)]]]\n",
    "    households[householdNumber][0] = hhId\n",
    "    households[householdNumber][1] = dwelling[d('id')]\n",
    "    households[householdNumber][2] = hhSize\n",
    "    households[householdNumber][3] = random.randint(0,hhSize-numKids)\n",
    "    householdNumber+=1\n",
    "    personNum += 1\n",
    "    dwellings[i][d('hhId')] = hhId\n",
    "\n",
    "    # if i%10000==0:\n",
    "    #     print(i)\n",
    "    # if i%150000==0 and i!=0:\n",
    "    #     num=int(i/150000)\n",
    "    #     print('writing to file:', num)\n",
    "    #     pd.DataFrame(data=households, columns=h_cols).astype(int).to_csv('./Output/hh_2006_'+str(num)+'.csv', index=False)\n",
    "    #     households = np.empty([0,4])\n",
    "\n",
    "if err==1:\n",
    "    print(\"Exhausted Dwellings, extra people with no dwelling\")\n",
    "    print('At person', personNum)\n",
    "elif err==2:\n",
    "    print(\"All poeple housed, extra dwellings available\")\n"
   ]
  },
  {
   "cell_type": "code",
   "execution_count": 97,
   "metadata": {},
   "outputs": [],
   "source": [
    "households = households[:householdNumber]"
   ]
  },
  {
   "cell_type": "code",
   "execution_count": 98,
   "metadata": {},
   "outputs": [],
   "source": [
    "pd.DataFrame(data=households, columns=h_cols).astype(int).to_csv('./Output/Final/hh_2006.csv', index=False)"
   ]
  },
  {
   "cell_type": "code",
   "execution_count": 99,
   "metadata": {},
   "outputs": [],
   "source": [
    "dwelling_type_conversions = []\n",
    "for i in dwellings:\n",
    "    typ = ''\n",
    "    if i[2] == 0:\n",
    "        typ = 'SFD'\n",
    "    elif i[2] == 1:\n",
    "        typ = 'SFA' \n",
    "    elif i[2] == 2:\n",
    "        typ = 'MF234'\n",
    "    elif i[2] == 3:\n",
    "        typ = 'MF5plus'\n",
    "    elif i[2] == 4:\n",
    "        typ = 'MH'\n",
    "    dwelling_type_conversions.append(typ)"
   ]
  },
  {
   "cell_type": "code",
   "execution_count": 100,
   "metadata": {},
   "outputs": [],
   "source": [
    "\n",
    "out_dwel = pd.DataFrame(data=dwellings, columns=d_cols)\n",
    "out_dwel = out_dwel.astype({'id': 'int32', 'zone': 'int32', 'hhId': 'int32', 'bedrooms': 'int32', 'quality': 'int32', 'monthlyCost': 'int32', 'restriction': 'int32', 'yearBuilt': 'int32', 'floor': 'int32', 'building': 'int32', 'usage': 'int32'})\n",
    "out_dwel['type'] = dwelling_type_conversions\n",
    "out_dwel.to_csv('./Output/Final/dd_2006_snapped_linked.csv', index=False)"
   ]
  },
  {
   "cell_type": "markdown",
   "metadata": {},
   "source": [
    "GENERATE NATIONALITIES"
   ]
  },
  {
   "cell_type": "code",
   "execution_count": 101,
   "metadata": {},
   "outputs": [
    {
     "name": "stdout",
     "output_type": "stream",
     "text": [
      "{'Canadian': 0.3617886574998944, 'French': 0.18845588720950504, 'Italian': 0.06059208296654334, 'Irish': 0.05185625513641339, 'English': 0.029953884617341938, 'Haitian': 0.028640478673124335, 'Scottish': 0.026880969473327465, 'Chinese': 0.023555767779434425, 'First Nations': 0.022070200627359773, 'Québécois': 0.0199479618386817, 'German': 0.018629142020003184, 'Algerian': 0.018317302851054568, 'Moroccan': 0.01677218307990987, 'Spanish': 0.014855671520746508, 'Greek': 0.014378167793293942, 'Lebanese': 0.014891403092188537, 'Polish': 0.014053335325639136, 'Portuguese': 0.012214783558712927, 'Russian': 0.010670746562460412, 'East Indian': 0.010499668129495546, 'Romanian': 0.010390307865385095, 'Vietnamese': 0.00837201546635656, 'Filipino': 0.00772776440550786, 'Ukrainian': 0.007590251994200658, 'Belgian': 0.006895110513419371}\n"
     ]
    }
   ],
   "source": [
    "tmp = \"\"\"Canadian 1,670,655\n",
    "French 870,245\n",
    "Italian\t279,800\n",
    "Irish 239,460\n",
    "English 138,320\n",
    "Haitian 132,255\n",
    "Scottish 124,130\n",
    "Chinese\t108,775\n",
    "First Nations 101,915\n",
    "Québécois 92,115\n",
    "German 86,025\n",
    "Algerian 84,585\n",
    "Moroccan 77,450\n",
    "Spanish\t68,600\n",
    "Greek 66,395\n",
    "Lebanese 68,765\n",
    "Polish 64,895\n",
    "Portuguese 56,405\n",
    "Russian\t49,275\n",
    "East Indian\t48,485\n",
    "Romanian 47,980\n",
    "Vietnamese 38,660\n",
    "Filipino 35,685\n",
    "Ukrainian 35,050\n",
    "Belgian\t31,840\"\"\"\n",
    "\n",
    "countries = tmp.replace('\\t', ' ').replace(',', '').split('\\n')\n",
    "nationalities = {}\n",
    "total_nationalities_pop = 0\n",
    "for i in countries:\n",
    "    ind = re.search('[0-9]', i).span()[0]\n",
    "    nationalities[i[:ind-1]] = 0.0\n",
    "    total_nationalities_pop += int(i[ind:])\n",
    "\n",
    "for i in countries:\n",
    "    ind = re.search('[0-9]', i).span()[0]\n",
    "    nationalities[i[:ind-1]] = int(i[ind:])/total_nationalities_pop\n",
    "\n",
    "print(nationalities)\n",
    "nationalities_list = random.choices(list(nationalities.keys()), weights=list(nationalities.values()),k=persons.shape[0])"
   ]
  },
  {
   "cell_type": "code",
   "execution_count": 102,
   "metadata": {},
   "outputs": [],
   "source": [
    "personRelationshipConverts = []\n",
    "for i in persons:\n",
    "    rel = ''\n",
    "    if person[4] == 0:\n",
    "        rel = 'SINGLE'\n",
    "    elif person[4] == 1:\n",
    "        rel = 'MARRIED'\n",
    "    elif person[4] == 2:\n",
    "        rel = 'CHILD'\n",
    "    personRelationshipConverts.append(rel)"
   ]
  },
  {
   "cell_type": "code",
   "execution_count": 103,
   "metadata": {},
   "outputs": [],
   "source": [
    "outputPersons = pd.DataFrame(data=persons, columns=p_cols)\n",
    "outputPersons['nationality'] = nationalities_list\n",
    "outputPersons['relationship'] = personRelationshipConverts\n",
    "outputPersons = outputPersons.astype({'id': 'int32', 'hhId': 'int32', 'age': 'int32', 'gender': 'int32', 'relationship': 'object', 'occupation': 'int32', 'occupation_type': 'int32', 'workplace': 'int32', 'income': 'int32', 'schoolplace': 'int32'})\n",
    "outputPersons.to_csv('./Output/Final/pp_2006_linked_jobs.csv', index=False)"
   ]
  }
 ],
 "metadata": {
  "kernelspec": {
   "display_name": "sim",
   "language": "python",
   "name": "python3"
  },
  "language_info": {
   "codemirror_mode": {
    "name": "ipython",
    "version": 3
   },
   "file_extension": ".py",
   "mimetype": "text/x-python",
   "name": "python",
   "nbconvert_exporter": "python",
   "pygments_lexer": "ipython3",
   "version": "3.12.7"
  }
 },
 "nbformat": 4,
 "nbformat_minor": 2
}
