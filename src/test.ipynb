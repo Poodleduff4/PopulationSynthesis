{
 "cells": [
  {
   "cell_type": "code",
   "execution_count": 2,
   "metadata": {},
   "outputs": [],
   "source": [
    "import pandas as pd\n",
    "import geopandas as gpd"
   ]
  },
  {
   "cell_type": "code",
   "execution_count": 3,
   "metadata": {},
   "outputs": [],
   "source": [
    "zones = gpd.read_file('./Data/GreaterMontrealZones2006_2138.shp')"
   ]
  },
  {
   "cell_type": "code",
   "execution_count": 7,
   "metadata": {},
   "outputs": [
    {
     "data": {
      "text/html": [
       "<div>\n",
       "<style scoped>\n",
       "    .dataframe tbody tr th:only-of-type {\n",
       "        vertical-align: middle;\n",
       "    }\n",
       "\n",
       "    .dataframe tbody tr th {\n",
       "        vertical-align: top;\n",
       "    }\n",
       "\n",
       "    .dataframe thead th {\n",
       "        text-align: right;\n",
       "    }\n",
       "</style>\n",
       "<table border=\"1\" class=\"dataframe\">\n",
       "  <thead>\n",
       "    <tr style=\"text-align: right;\">\n",
       "      <th></th>\n",
       "      <th>DAUID</th>\n",
       "      <th>CSDUID</th>\n",
       "      <th>CCSUID</th>\n",
       "      <th>CDUID</th>\n",
       "      <th>ERUID</th>\n",
       "      <th>PRUID</th>\n",
       "      <th>CTUID</th>\n",
       "      <th>CMAUID</th>\n",
       "      <th>DwellingTy</th>\n",
       "      <th>Dwelling_1</th>\n",
       "      <th>Dwelling_2</th>\n",
       "      <th>Dwelling_3</th>\n",
       "      <th>Dwelling_4</th>\n",
       "      <th>Dwelling_5</th>\n",
       "      <th>Dwelling_6</th>\n",
       "      <th>Dwelling_7</th>\n",
       "      <th>Dwelling_8</th>\n",
       "      <th>Dwelling_9</th>\n",
       "      <th>geometry</th>\n",
       "    </tr>\n",
       "  </thead>\n",
       "  <tbody>\n",
       "  </tbody>\n",
       "</table>\n",
       "</div>"
      ],
      "text/plain": [
       "Empty GeoDataFrame\n",
       "Columns: [DAUID, CSDUID, CCSUID, CDUID, ERUID, PRUID, CTUID, CMAUID, DwellingTy, Dwelling_1, Dwelling_2, Dwelling_3, Dwelling_4, Dwelling_5, Dwelling_6, Dwelling_7, Dwelling_8, Dwelling_9, geometry]\n",
       "Index: []"
      ]
     },
     "execution_count": 7,
     "metadata": {},
     "output_type": "execute_result"
    }
   ],
   "source": [
    "zones[zones['CTUID']==4080001.00]"
   ]
  },
  {
   "cell_type": "code",
   "execution_count": 9,
   "metadata": {},
   "outputs": [],
   "source": [
    "zones.index = zones['DAUID'].astype(int)"
   ]
  },
  {
   "cell_type": "code",
   "execution_count": 19,
   "metadata": {},
   "outputs": [
    {
     "data": {
      "text/plain": [
       "DAUID\n",
       "24550083    24550083\n",
       "24550084    24550084\n",
       "24550088    24550088\n",
       "Name: DAUID, dtype: object"
      ]
     },
     "execution_count": 19,
     "metadata": {},
     "output_type": "execute_result"
    }
   ],
   "source": [
    "zones.loc[zones['CTUID']=='4620926.02','DAUID']"
   ]
  },
  {
   "cell_type": "code",
   "execution_count": 20,
   "metadata": {},
   "outputs": [
    {
     "data": {
      "text/plain": [
       "166.66666666666666"
      ]
     },
     "execution_count": 20,
     "metadata": {},
     "output_type": "execute_result"
    }
   ],
   "source": [
    "500/3"
   ]
  },
  {
   "cell_type": "code",
   "execution_count": null,
   "metadata": {},
   "outputs": [],
   "source": []
  }
 ],
 "metadata": {
  "kernelspec": {
   "display_name": ".venv",
   "language": "python",
   "name": "python3"
  },
  "language_info": {
   "codemirror_mode": {
    "name": "ipython",
    "version": 3
   },
   "file_extension": ".py",
   "mimetype": "text/x-python",
   "name": "python",
   "nbconvert_exporter": "python",
   "pygments_lexer": "ipython3",
   "version": "3.12.6"
  }
 },
 "nbformat": 4,
 "nbformat_minor": 2
}
